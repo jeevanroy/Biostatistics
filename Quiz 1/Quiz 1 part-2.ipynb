{
 "cells": [
  {
   "cell_type": "code",
   "execution_count": 1,
   "id": "66a4580a",
   "metadata": {},
   "outputs": [],
   "source": [
    "import numpy as np\n",
    "from scipy.stats import norm, chi2"
   ]
  },
  {
   "cell_type": "code",
   "execution_count": null,
   "id": "6450096e",
   "metadata": {},
   "outputs": [],
   "source": []
  },
  {
   "cell_type": "code",
   "execution_count": 2,
   "id": "de66090d",
   "metadata": {},
   "outputs": [],
   "source": [
    "the_string= \"70 83 25 73 9 67 4 117 138 75 127 41 143 105 30 11 18 76 142 98 54 119 8 9 117 90 103 45 47 11 133 148 52 7 10 43 82 54 21 98 99 125 38 15 94 138 95 79 83 100 108 1 98 110 36 39 23 139 111 112 95 23 117 144 70 87 119 45 64 79 61 96 72 80 16 114 78 106 137 82 147 44 108 19 71 8 84 11 25 121 49 62 99 9 13 92 52 14 123 113 1 80 42 17 83 113 73 102 93 128 101 5 130 2 40 23 61 16 42 54 78 129 138 71 88 102 57 50 5 32 134 100 111 121 47 23 93 92 65 31 99 90 59 81 138 58 72 20 69 55 120 13 9 88 57 126 111 34 67 91 121 53 17 51 50 101 34 35 54 37 26 18 6 48 83 70 72 65 45 90 5 58 66 88 93 145 12 116 24 55 70 22 3 120 111 125 86 87 101 54 16 103 26 47 143 19 114 43 111 146 51 11 114 44 111 47 20 65 100 79 5 134 18 122 56 44 25 139 128 104 95 91 17 11 118 119 140 109 131 78 101 104 46 6 75 133 57 105 102 115 52 58 78 12 50 11 118 16 100 44 98 2 148 121 16 35 90 49 70 69 134 109 24 149 82 110 68 93 71 101 140 131 43 105 80 94 132 37 126 38 101 95 113 123 139 17 48 62 52 80 140 123 55 105 41 140 117 13 16 133 101 95 113 123 139 17 48 62 52 80 141 123 55 105 41 140 117 13 16 133 42 125 78 147 120 3 68 144 72 65 148 5 107 43 103 68 71 46 130 97 115 89 36 51 2 20 73 81 24 65 78 34 66 55 116 38 46 18 125 118 11 34 146 24 118 42 9 103 116 27 88 24 145 15 102 116 47 117 137 70 43 27 147 90 46 104 26 106 44 53 75 27 56 6 126 82 133 40 16 68 57 91 142 94 11 112 34 140 14 87 56 99 39 105 96 102 53 123 92 4 115 130 40 144 91 145 8 25 112 66 79 101 55 149 99 108 41 1 56 51 143 116 142 137 146 102 8 93 57 84 68 6 8 94 61 87 31 26 64 138 111 137 9 87 130 49 92 117 52 103 121 12 122 23 88 51 136 26 78 9 32 135 68 90 109 128 96 127 27 5 98 36 86 37 147 110 80 57 137 142 65 90 95 138 84 139 35 39 101 4 122 78 132 85 29 25 54 66 58 60 30 69 95 138 100 71 68 128 58 74 113 119 56 98 110 138 149 68 147 13 99 85 59 43 106 67 25 2 91 4 21 3 10 84 55 47 129 100 87 141 114 43 137 57 69 27 39 46 134 84 98 1 34 42 128 6 87 14 27 148 137 136 99 134 81 18 37 34 143 144 113 147 121 72 115 140 85 53 62 146 99 124 106 32 15 111 11 45 9 3 76 81 107 52 69 138 32 57 21 92 55 99 29 96 142 71 122 62 43 20 59 71 38 129 140 138 57 78 96 7 6 68 123 69 29 86 108 41 37 137 9 65 64 67 41 39 97 58 125 47 120 52 134 113 87 130 40 44 70 1 18 40 81 49 66 105 123 88 62 57 119 136 49 71 12 80 20 138 48 110 93 121 143 63 83 88 86 46 126 117 7 24 143 63 83 88 56 46 126 117 98 128 50 145 120 24 109 136 21 119 99 86 117 104 142 131 29 26 39 105 128 7 147 1 70 146 137 17 74 5 87 12 76 104 22 133 93 131 10 55 110 94 149 44 13 47 83 79 146 60 66 108 137 122 61 90 33 35 87 128 135 54 96 48 118 9 78 8 94 131 134 114 8 26 93 53 146 50 89 64 28 32 20 35 14 52 43 79 77 101 146 46 75 66 69 49 23 136 9 128 147 49 87 40 89 63 15 26 65 135 129 49 39 140 11 29 91 25 52 126 65 111 30 43 112 59 60 1 61 79 81 33 11 12 96 118 27 125 143 103 125 14 50 53 41 42 120 115 142 88 38 140 95 74 99 61 126 54 1 15 69 60 3 129 49 40 123 64 55 38 117 119 134 130 95 37 94 123 47 58 116 68 111 99 44 21 50 107 108 54 149 65 115 46 113 136 79 91 36 125 28 98 125 93 9 120 106 128 53 136 40 118 119 21 87 126 120 131 73 84 149 22 111 32 50 143 121 44 139 92 144 2 31 139 119 84 7 52 9 83 48 27 32 124 89 60 118 8 46 9 15 23 6 112 91 111 42 46 116 7 21 72 103 46 8 104 96 9 40 64 49 101 61 66 20 100 43 8 76 6 9 31 143 25 60 62 86 15 5 81 142 29 26 56 66 125 110 127 27 90 38 92 98 4 74 105 12 1 53 88 10 23 75 52 79 104 73 38 46 54 1 30 105 128 8 61 21 113 147 13 54 87 98 146 29 25 118 129 22 46 29 149 104 148 48 58 81 68 20 140 52 90 103 71 23 57 62 123 34 25 39 131 145 123 1 60 125 47 129 117 72 139 28 35 1 94 70 16 133 134 51 130 47 2 6 110 135 137 23 127 93 30 20 139 77 125 19 130 28 118 105 117 2 77 79 137 112 127 132 133 125 137 55 58 115 95 87 120 96 109 141 72 29 35 110 44 61 48 82 19 85 147 83 29 107 12 98 74 61 8 18 48 98 79 145 9 17 22 135 23 142 6 27 87 54 16 149 74 35 15 134 8 85 47 125 15 139 111 130 124 29 75 114 44 112 72 73 66 10 74 9 49 39 6 70 4 8 144 139 22 105 86 90 132 126 39 76 141 57 130 6 4 28 47 70 53 67 71 66 120 25 67 19 40 79 9 66 127 15 52 25 87 69 31 26 129 74 100 95 72 19 59 79 39 94 19 81 76 67 16 111 91 32 3 57 25 23 126 59 31 89\""
   ]
  },
  {
   "cell_type": "code",
   "execution_count": 3,
   "id": "2cc24e66",
   "metadata": {},
   "outputs": [
    {
     "data": {
      "text/plain": [
       "['70', '83', '25', '73', '9', '67', '4', '117', '138', '75']"
      ]
     },
     "execution_count": 3,
     "metadata": {},
     "output_type": "execute_result"
    }
   ],
   "source": [
    "# Given random integers\n",
    "random_integers = the_string.split()\n",
    "random_integers[:10]"
   ]
  },
  {
   "cell_type": "code",
   "execution_count": 4,
   "id": "0998a5a8",
   "metadata": {},
   "outputs": [
    {
     "data": {
      "text/plain": [
       "[70, 83, 25, 73, 9, 67, 4, 117, 138, 75]"
      ]
     },
     "execution_count": 4,
     "metadata": {},
     "output_type": "execute_result"
    }
   ],
   "source": [
    "random_integers = [int(x) for x in random_integers]\n",
    "random_integers[:10]"
   ]
  },
  {
   "cell_type": "code",
   "execution_count": 5,
   "id": "9fe36985",
   "metadata": {},
   "outputs": [
    {
     "data": {
      "text/plain": [
       "74.2714398111723"
      ]
     },
     "execution_count": 5,
     "metadata": {},
     "output_type": "execute_result"
    }
   ],
   "source": [
    "np.mean(random_integers)"
   ]
  },
  {
   "cell_type": "code",
   "execution_count": 6,
   "id": "443941d3",
   "metadata": {},
   "outputs": [
    {
     "data": {
      "text/plain": [
       "1847.21900335574"
      ]
     },
     "execution_count": 6,
     "metadata": {},
     "output_type": "execute_result"
    }
   ],
   "source": [
    "np.var(random_integers)"
   ]
  },
  {
   "cell_type": "code",
   "execution_count": 7,
   "id": "0207d9e7",
   "metadata": {},
   "outputs": [],
   "source": [
    "# Perform z-transformation\n",
    "z_scores = (random_integers - np.mean(random_integers)) / np.std(random_integers)"
   ]
  },
  {
   "cell_type": "code",
   "execution_count": 8,
   "id": "99bbaadc",
   "metadata": {},
   "outputs": [],
   "source": [
    "# Generate normally behaving subsample\n",
    "normal_sample = np.random.normal(size=len(random_integers))"
   ]
  },
  {
   "cell_type": "code",
   "execution_count": 9,
   "id": "3bccb550",
   "metadata": {},
   "outputs": [
    {
     "name": "stdout",
     "output_type": "stream",
     "text": [
      "95% Confidence interval for population mean: (71.88, 76.66)\n"
     ]
    }
   ],
   "source": [
    "# Compute probable range of population mean\n",
    "n = len(random_integers)\n",
    "alpha = 0.047633\n",
    "z_alpha = norm.ppf(1 - alpha/2)\n",
    "mean_low = np.mean(random_integers) - z_alpha * (np.std(random_integers) / np.sqrt(n))\n",
    "mean_high = np.mean(random_integers) + z_alpha * (np.std(random_integers) / np.sqrt(n))\n",
    "\n",
    "print(f\"95% Confidence interval for population mean: ({mean_low:.2f}, {mean_high:.2f})\")"
   ]
  },
  {
   "cell_type": "code",
   "execution_count": 10,
   "id": "01c53304",
   "metadata": {},
   "outputs": [
    {
     "name": "stdout",
     "output_type": "stream",
     "text": [
      "95% Confidence interval for population variance: (1710.19, 2001.44)\n"
     ]
    }
   ],
   "source": [
    "# Compute probable range of population variance\n",
    "df = n - 1\n",
    "chi2_low = (df * np.var(random_integers)) / chi2.ppf(1 - alpha/2, df)\n",
    "chi2_high = (df * np.var(random_integers)) / chi2.ppf(alpha/2, df)\n",
    "\n",
    "print(f\"95% Confidence interval for population variance: ({chi2_low:.2f}, {chi2_high:.2f})\")"
   ]
  },
  {
   "cell_type": "code",
   "execution_count": null,
   "id": "db33ac69",
   "metadata": {},
   "outputs": [],
   "source": []
  }
 ],
 "metadata": {
  "kernelspec": {
   "display_name": "Python 3 (ipykernel)",
   "language": "python",
   "name": "python3"
  },
  "language_info": {
   "codemirror_mode": {
    "name": "ipython",
    "version": 3
   },
   "file_extension": ".py",
   "mimetype": "text/x-python",
   "name": "python",
   "nbconvert_exporter": "python",
   "pygments_lexer": "ipython3",
   "version": "3.9.7"
  }
 },
 "nbformat": 4,
 "nbformat_minor": 5
}
